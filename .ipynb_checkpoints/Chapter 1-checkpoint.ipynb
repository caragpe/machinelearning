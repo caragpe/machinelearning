{
 "cells": [
  {
   "cell_type": "markdown",
   "metadata": {},
   "source": [
    "# Chapter 1\n",
    "\n",
    "Let's do a quick recap of the basics of ML"
   ]
  },
  {
   "cell_type": "markdown",
   "metadata": {},
   "source": [
    "# TOC\n",
    "\n",
    "* [What is Machine Learning](#what_is_ml)\n",
    "* [Why Machine Learning? Which are the advantages?](#why_ml)\n",
    "* [Types of Machine Learning](#types_of_ml)\n",
    "  * [Supervised/Unsupervised learning/Reinforcement Learning](#sup_unsup)\n",
    "  * [Batch/Online Learning](#batch_online)\n",
    "  * [Instance/Model based : how does the system generalize?](#instance_model)"
   ]
  },
  {
   "cell_type": "markdown",
   "metadata": {},
   "source": [
    "<a id='what_is_ml'></a>\n",
    "## What Is Machine Learning \n",
    "\n",
    "* Machine Learning is the science (and art) of programming computers so they can learn from data.\n",
    "* Spam filter: Example of Machine Learning program. It will learn from:\n",
    "    - Examples of spam emails (labeled data -> training set)\n",
    "    - Examples of nonspam emails"
   ]
  },
  {
   "cell_type": "markdown",
   "metadata": {},
   "source": [
    "<a id='why_ml'></a>\n",
    "## Why Machine Learning? Which are the advantages?\n",
    "    \n",
    "* Problems for which existing solutions require a lot of hand-tuning or long lists of rules: one Machine Learning algorithm can often simplify code and perform better. (Manual spam filters can become a long list of complex rules).\n",
    "\n",
    "* High potential when facing too complex problems, or problems that have no known algorithm. For example, speech recognition (noisy environment, different pronunciations, different languages).\n",
    "\n",
    "* Fluctuating environments: a Machine Learning system can adapt to new data.\n",
    "\n",
    "* Getting insights about complex problems and large amounts of data."
   ]
  },
  {
   "cell_type": "markdown",
   "metadata": {},
   "source": [
    "<a id='types_of_ml'></a>\n",
    "## Types of Machine Learning\n",
    "\n",
    "* Trained with human supervision?\n",
    "  * Supervised\n",
    "  * Unsupervised\n",
    "  * Semi supervised\n",
    "  * Reinforcement Learning\n",
    "* Can they learn incrementally on the fly?\n",
    "  * Online learing\n",
    "  * Batch learning\n",
    "* Instance-based or model-based?\n",
    "  * Instance: comparison of new data points and known data points\n",
    "  * Model: detect patterns in training data and build a predictive model"
   ]
  },
  {
   "cell_type": "markdown",
   "metadata": {},
   "source": [
    "<a id='sup_unsup'></a>\n",
    "### Supervised/Unsupervised learning/Reinforcement Learning\n",
    "\n",
    "**Supervised learning**: the training data you feed to the algorithm includes the desired solutions, called labels.\n",
    "\n",
    "  * Classification.\n",
    "  * Regression. Predict a target numeric value based on a given set of features (predictors)\n",
    "\n",
    "**Unsupervised learning**: the training data is unlabeled.\n",
    "  * Clustering\n",
    "  * Visualization and dimensionality reduction (for example, PCA)\n",
    "  * Association rule learning (discover relations between attributes)\n",
    "  \n",
    "**Semisupervised**: a lot of unlabeled data and a little bit of labeled data\n",
    "\n",
    "**Reinforced learning**: The learning system, called an agent in this context, can observe the environment, select and perform actions, and get rewards in return.\n",
    "  * Rewards can be possitive or negative\n",
    "  * It must learn by itself what is the best strategy, called a policy, to get the most reward over time. "
   ]
  },
  {
   "cell_type": "markdown",
   "metadata": {},
   "source": [
    "<a id='batch_online'></a>\n",
    "### Batch/Online Learning\n",
    "\n",
    "**Batch learning**\n",
    "* System can not learn incrementally. It must be trained using all available data.\n",
    "* Takes a lot of time and computing resources. Hence, it is typically done offline:\n",
    "  * Training happens at the beginning\n",
    "  * System deployed to prod\n",
    "  * System run without learning anymore\n",
    "* New data? Train a new version of the system from scratch on the full dataset.\n",
    "\n",
    "**Online learning**\n",
    "* System trained by feeding it data instances sequentially (individually or mini-batches)\n",
    "* Learning steps are fast and cheap (system learn new data as it arrives)\n",
    "* Great for systems that receive data as a continuous flow (stock prices) and need to adapt rapidly\n",
    "* Good option if computing resources are limited or the dataset has a huge size\n",
    "* To be noted that the whole process is usually done offline, so online can be confusing. Think of it as *incremental learning*<br />\n",
    "<img src=\"images/C01_online_learning.png\" style=\"width: 500px\" /><br />\n",
    "\n",
    "* **Learning rate**. How fast should a system adapt to changing data?\n",
    "  * High learning rate: it will adapt rapidly to new data, but it also tend to forget the old data.\n",
    "  * Low learning rate: system has more inertia, but it will be less sensitive to noise/outliers\n",
    "* **Challenge**: performance will decline if bad data is fed to the system."
   ]
  },
  {
   "cell_type": "markdown",
   "metadata": {},
   "source": [
    "<a id='instance_model'></a>\n",
    "### Instance/Model based : how does the system generalize?\n",
    "* Instance-based learning\n",
    "  * The system learns the examples 'by heart', then generalizes to new cases using a similarity measure\n",
    "<br /><img src=\"images/C01_instance_based.png\" style=\"width: 500px\" /><br /><br />\n",
    "* Model-based learning\n",
    "  * The system builds a model of these examples, and use it to make predictions\n",
    "<br /><img src=\"images/C01_model_based.png\" style=\"width: 500px\" />\n",
    "  * *Example*\n",
    "<img src=\"images/C01_gdp_model.png\" style=\"width: 500px\" /><br />\n",
    "Although the data is noisy, it looks like life satisfaction goes up more or less linearly as the country’s GDP per capita increases. This model has two model parameters: $$\\theta_0, \\theta_1$$<br />\n",
    "$$life\\_satisfaction =\\theta_0 + \\theta_1 \\times GDP\\_per\\_capita$$ <br />\n",
    "You can either define a utility function (or fitness function) that measures how good your model is, or you can define a cost function that measures how bad it is. For linear regression problems, people typically use a cost function that measures the distance between the linear model’s predictions and the training examples; the objective is to minimize this distance.\n"
   ]
  },
  {
   "cell_type": "markdown",
   "metadata": {},
   "source": []
  }
 ],
 "metadata": {
  "kernelspec": {
   "display_name": "Python 3",
   "language": "python",
   "name": "python3"
  },
  "language_info": {
   "codemirror_mode": {
    "name": "ipython",
    "version": 3
   },
   "file_extension": ".py",
   "mimetype": "text/x-python",
   "name": "python",
   "nbconvert_exporter": "python",
   "pygments_lexer": "ipython3",
   "version": "3.6.4"
  }
 },
 "nbformat": 4,
 "nbformat_minor": 2
}
