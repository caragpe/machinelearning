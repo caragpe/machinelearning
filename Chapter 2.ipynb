{
 "cells": [
  {
   "cell_type": "markdown",
   "metadata": {},
   "source": [
    "# Chapter 2\n",
    "\n",
    "Example project end to end."
   ]
  },
  {
   "cell_type": "markdown",
   "metadata": {},
   "source": [
    "# TOC\n",
    "\n",
    "1. [Accessing Real Data](#real_data)\n",
    "2. [Used Data](#used_data)\n",
    "3. Project\n",
    "   1. Loog at the big picture\n",
    "   2. Get the data.\n",
    "   3. Discover and visualize the data to gain insights.\n",
    "   4. Prepare the data for Machine Learning algorithms.\n",
    "   5. Select a model and train it.\n",
    "   6. Fine-tune your model.\n",
    "   7. Present your solution.\n",
    "   8. Launch, monitor, and maintain your system."
   ]
  },
  {
   "cell_type": "markdown",
   "metadata": {},
   "source": [
    "<a id='real_data'></a>\n",
    "## Accessing Real Data\n",
    "\n",
    "**Popular open data repositories**\n",
    "\n",
    "* [UC Irvine Machine Learning Repository](http://archive.ics.uci.edu/ml/)\n",
    "* [Kaggle datasets](https://www.kaggle.com/datasets)\n",
    "* [Amazon’s AWS datasets](http://aws.amazon.com/fr/datasets/)\n",
    "\n",
    "**Meta portals** (they list open data repositories)\n",
    "\n",
    "* http://dataportals.org/\n",
    "* http://opendatamonitor.eu/\n",
    "* http://quandl.com/\n",
    "\n",
    "**Other pages listing many popular open data repositories**\n",
    "\n",
    "* [Wikipedia’s list of Machine Learning datasets](https://goo.gl/SJHN2k)\n",
    "* [Quora.com question](http://goo.gl/zDR78y)\n",
    "* [Datasets subreddit](https://www.reddit.com/r/datasets)"
   ]
  },
  {
   "cell_type": "markdown",
   "metadata": {},
   "source": [
    "<a id='used_data'></a>\n",
    "## Used Data\n",
    "\n",
    "California Housing Prices dataset from the StatLib repository<br />\n",
    "<img src=\"images/C02_california_real_state_dataset.png\" style=\"width: 500px\" />"
   ]
  },
  {
   "cell_type": "code",
   "execution_count": null,
   "metadata": {},
   "outputs": [],
   "source": []
  }
 ],
 "metadata": {
  "kernelspec": {
   "display_name": "Python 3",
   "language": "python",
   "name": "python3"
  },
  "language_info": {
   "codemirror_mode": {
    "name": "ipython",
    "version": 3
   },
   "file_extension": ".py",
   "mimetype": "text/x-python",
   "name": "python",
   "nbconvert_exporter": "python",
   "pygments_lexer": "ipython3",
   "version": "3.6.4"
  }
 },
 "nbformat": 4,
 "nbformat_minor": 2
}
